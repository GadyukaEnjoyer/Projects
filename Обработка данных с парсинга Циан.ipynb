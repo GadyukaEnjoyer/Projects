{
 "cells": [
  {
   "cell_type": "code",
   "execution_count": 9,
   "id": "4325c82c",
   "metadata": {},
   "outputs": [],
   "source": [
    "import pandas as pd\n",
    "import numpy as np\n",
    "import re\n",
    "df = pd.read_csv(\"cian_dataset.csv\", sep = ';')\n",
    "df[['flat', 'int m2', 'float m2', 'floor']] = df['title'].str.split(',', expand= True )\n",
    "df2 = df.drop('title', axis = 1)\n",
    "df2['clean float part'] = df2['float m2'].apply(float_met)\n",
    "df3 = df2.drop(columns = 'float m2', axis = 1)\n",
    "df3['clean float part'] = df3['clean float part'].fillna(0) #Заполню пустые значения 0\n",
    "df3['int m2'] = df3['int m2'].apply(for_int_m2)\n",
    "df3['price_m'] = df3['price_m'].replace('₽/м²', '', regex=True)\n",
    "df3['price_m'] = df3['price_m'].map(lambda x: int(''.join(x.split())))\n",
    "df3['main_price'] = df3['main_price'].map(lambda price: int(''.join((str(price).strip('₽')).split())))\n",
    "df3['flat square'] = df3['int m2']+df3['clean float part'] #скаладываем целую и дробную часть площади\n",
    "df3 = df3.drop(columns = ['int m2', 'clean float part'], axis = 1) #удаляем более не нужные столбцы\n",
    "df3['flat square'] = np.where(df3['flat square'] == 0.00, round(df3['main_price'] / df3['price_m'], 2), round(df3['flat square'],2))\n",
    "#Принцип работы np.where(условие, если условие в искомой ячейке выполнено то подставь что я прошу, если не выполнено потсавь что я хочу)\n",
    "df3['number of rooms'] = df3['flat'].apply(num_of_rooms)\n",
    "df3 = df3.drop(columns = 'flat', axis =1)\n",
    "df3[['floor', 'total of floors']] = df3['floor'].str.split('/', expand = True)\n",
    "df3['total of floors'] = df3['total of floors'].apply(total_fl_proccesing)\n",
    "df3.to_csv('итоггггг.csv', sep =',', encoding = 'utf8')"
   ]
  },
  {
   "cell_type": "code",
   "execution_count": 3,
   "id": "afe7b738",
   "metadata": {
    "collapsed": true
   },
   "outputs": [],
   "source": [
    "def float_met (value):\n",
    "    try:\n",
    "        if value is not None:\n",
    "            value = value.split()\n",
    "            value = value[0]\n",
    "            if len(value) == 1:\n",
    "                value = int(value)/10\n",
    "                return value\n",
    "            elif len(value) == 2 :\n",
    "                value = int(value)/100\n",
    "                return value\n",
    "            else:\n",
    "                return 0\n",
    "    except ValueError:\n",
    "            return (0)\n",
    "#FUNCTION FOR PROCESSING FLOAT M2 AS THEY CONTAIN NOT ONLY FLOAT PART BUT OTHER GARBAGE I HAVE TO GET RID OFF "
   ]
  },
  {
   "cell_type": "code",
   "execution_count": 4,
   "id": "f4f6ff6e",
   "metadata": {},
   "outputs": [],
   "source": [
    "def for_int_m2 (value): #Function in oreder to handle Type Error \n",
    "    try:\n",
    "        if value is not None:\n",
    "            value = re.sub(r'\\D', '', value) #Библиотека re c помощью ее методов можно изабавиться от всех символов кроме числовых\n",
    "            value = value.strip()\n",
    "            value = int(value)\n",
    "            return value\n",
    "        else:\n",
    "            return 0\n",
    "    except ValueError:\n",
    "        return 0"
   ]
  },
  {
   "cell_type": "code",
   "execution_count": 5,
   "id": "01452ae0",
   "metadata": {},
   "outputs": [],
   "source": [
    "def num_of_rooms (value):\n",
    "    one = ['однушка', 'однокомнатная', 'одн']\n",
    "    two = ['двушка', 'двухкомнатная', 'двукомнатная', 'две']\n",
    "    three = ['трёшка', 'трёх', 'три', 'трешка', 'трех', 'трехкомнатная', 'трёхкомнатная' ]\n",
    "    four = ['четырехкомнатная', 'четверка', 'четвёрка']\n",
    "    digits =  [str(x) for x in range (10)]\n",
    "    if any(digit in value[0 ]for digit in digits):\n",
    "#     if value[0] == [str(x) for x in range (10)]:\n",
    "        value = int(value[0])\n",
    "        return value \n",
    "    elif any(word in value.lower() for word in one ):\n",
    "        return 1\n",
    "    elif any(word in value.lower() for word in two):\n",
    "        return 2\n",
    "    elif any(word in value.lower() for word in three):\n",
    "        return 3\n",
    "    elif any(word in value.lower() for word in four):\n",
    "        return 4"
   ]
  },
  {
   "cell_type": "code",
   "execution_count": 6,
   "id": "4e4ca23d",
   "metadata": {},
   "outputs": [],
   "source": [
    "def total_fl_proccesing (value):\n",
    "    try:\n",
    "        if value is not None: \n",
    "            value = value.strip('этаж')\n",
    "            value  =  int(value)\n",
    "            return value\n",
    "    except TypeError:\n",
    "        pass"
   ]
  }
 ],
 "metadata": {
  "kernelspec": {
   "display_name": "Python 3 (ipykernel)",
   "language": "python",
   "name": "python3"
  },
  "language_info": {
   "codemirror_mode": {
    "name": "ipython",
    "version": 3
   },
   "file_extension": ".py",
   "mimetype": "text/x-python",
   "name": "python",
   "nbconvert_exporter": "python",
   "pygments_lexer": "ipython3",
   "version": "3.9.13"
  }
 },
 "nbformat": 4,
 "nbformat_minor": 5
}
